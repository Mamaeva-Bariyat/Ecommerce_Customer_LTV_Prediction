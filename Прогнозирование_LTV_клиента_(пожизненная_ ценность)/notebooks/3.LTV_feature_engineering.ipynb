{
 "cells": [
  {
   "cell_type": "markdown",
   "id": "cbe9fa31",
   "metadata": {},
   "source": [
    "# feature engineering"
   ]
  },
  {
   "cell_type": "code",
   "execution_count": 6,
   "id": "a9dfe46f",
   "metadata": {},
   "outputs": [],
   "source": [
    "import pandas as pd\n",
    "import numpy as np\n",
    "from pathlib import Path\n"
   ]
  },
  {
   "cell_type": "code",
   "execution_count": 7,
   "id": "0350a0f3",
   "metadata": {},
   "outputs": [],
   "source": [
    "# Пути к исходным данным\n",
    "data_path = Path('data/raw')\n",
    "orders = pd.read_csv(data_path / 'olist_orders_dataset.csv', parse_dates=['order_purchase_timestamp'])\n",
    "order_items = pd.read_csv(data_path / 'olist_order_items_dataset.csv')\n",
    "customers = pd.read_csv(data_path / 'olist_customers_dataset.csv')\n"
   ]
  },
  {
   "cell_type": "code",
   "execution_count": 8,
   "id": "f5cbcd07",
   "metadata": {},
   "outputs": [],
   "source": [
    "# Объединение заказов с товарами\n",
    "orders_full = orders.merge(order_items, on='order_id')\n",
    "orders_full = orders_full.merge(customers[['customer_id', 'customer_unique_id']], on='customer_id')\n",
    "\n",
    "# Добавляем дату анализа (последняя дата + 1)\n",
    "analysis_date = orders_full['order_purchase_timestamp'].max() + pd.Timedelta(days=1)\n"
   ]
  },
  {
   "cell_type": "code",
   "execution_count": 9,
   "id": "28c7e1e1",
   "metadata": {},
   "outputs": [],
   "source": [
    "# Агрегация по customer_unique_id\n",
    "rfm = orders_full.groupby('customer_unique_id').agg({\n",
    "    'order_purchase_timestamp': [\n",
    "        lambda x: (analysis_date - x.max()).days,  # Recency\n",
    "        'count',                                   # Frequency\n",
    "        lambda x: x.sort_values().diff().dt.days.mean()  # avg_days_between_orders\n",
    "    ],\n",
    "    'price': 'sum'                                 # Monetary\n",
    "})\n",
    "\n",
    "rfm.columns = ['recency', 'frequency', 'avg_days_between_orders', 'monetary']\n",
    "rfm = rfm.reset_index()\n"
   ]
  },
  {
   "cell_type": "code",
   "execution_count": 10,
   "id": "524f839b",
   "metadata": {},
   "outputs": [
    {
     "data": {
      "text/html": [
       "<div>\n",
       "<style scoped>\n",
       "    .dataframe tbody tr th:only-of-type {\n",
       "        vertical-align: middle;\n",
       "    }\n",
       "\n",
       "    .dataframe tbody tr th {\n",
       "        vertical-align: top;\n",
       "    }\n",
       "\n",
       "    .dataframe thead th {\n",
       "        text-align: right;\n",
       "    }\n",
       "</style>\n",
       "<table border=\"1\" class=\"dataframe\">\n",
       "  <thead>\n",
       "    <tr style=\"text-align: right;\">\n",
       "      <th></th>\n",
       "      <th>customer_unique_id</th>\n",
       "      <th>recency</th>\n",
       "      <th>frequency</th>\n",
       "      <th>avg_days_between_orders</th>\n",
       "      <th>monetary</th>\n",
       "    </tr>\n",
       "  </thead>\n",
       "  <tbody>\n",
       "    <tr>\n",
       "      <th>0</th>\n",
       "      <td>0000366f3b9a7992bf8c76cfdf3221e2</td>\n",
       "      <td>116</td>\n",
       "      <td>1</td>\n",
       "      <td>NaN</td>\n",
       "      <td>129.90</td>\n",
       "    </tr>\n",
       "    <tr>\n",
       "      <th>1</th>\n",
       "      <td>0000b849f77a49e4a4ce2b2a4ca5be3f</td>\n",
       "      <td>119</td>\n",
       "      <td>1</td>\n",
       "      <td>NaN</td>\n",
       "      <td>18.90</td>\n",
       "    </tr>\n",
       "    <tr>\n",
       "      <th>2</th>\n",
       "      <td>0000f46a3911fa3c0805444483337064</td>\n",
       "      <td>542</td>\n",
       "      <td>1</td>\n",
       "      <td>NaN</td>\n",
       "      <td>69.00</td>\n",
       "    </tr>\n",
       "    <tr>\n",
       "      <th>3</th>\n",
       "      <td>0000f6ccb0745a6a4b88665a16c9f078</td>\n",
       "      <td>326</td>\n",
       "      <td>1</td>\n",
       "      <td>NaN</td>\n",
       "      <td>25.99</td>\n",
       "    </tr>\n",
       "    <tr>\n",
       "      <th>4</th>\n",
       "      <td>0004aac84e0df4da2b147fca70cf8255</td>\n",
       "      <td>293</td>\n",
       "      <td>1</td>\n",
       "      <td>NaN</td>\n",
       "      <td>180.00</td>\n",
       "    </tr>\n",
       "    <tr>\n",
       "      <th>...</th>\n",
       "      <td>...</td>\n",
       "      <td>...</td>\n",
       "      <td>...</td>\n",
       "      <td>...</td>\n",
       "      <td>...</td>\n",
       "    </tr>\n",
       "    <tr>\n",
       "      <th>95415</th>\n",
       "      <td>fffcf5a5ff07b0908bd4e2dbc735a684</td>\n",
       "      <td>452</td>\n",
       "      <td>2</td>\n",
       "      <td>0.0</td>\n",
       "      <td>1570.00</td>\n",
       "    </tr>\n",
       "    <tr>\n",
       "      <th>95416</th>\n",
       "      <td>fffea47cd6d3cc0a88bd621562a9d061</td>\n",
       "      <td>267</td>\n",
       "      <td>1</td>\n",
       "      <td>NaN</td>\n",
       "      <td>64.89</td>\n",
       "    </tr>\n",
       "    <tr>\n",
       "      <th>95417</th>\n",
       "      <td>ffff371b4d645b6ecea244b27531430a</td>\n",
       "      <td>573</td>\n",
       "      <td>1</td>\n",
       "      <td>NaN</td>\n",
       "      <td>89.90</td>\n",
       "    </tr>\n",
       "    <tr>\n",
       "      <th>95418</th>\n",
       "      <td>ffff5962728ec6157033ef9805bacc48</td>\n",
       "      <td>124</td>\n",
       "      <td>1</td>\n",
       "      <td>NaN</td>\n",
       "      <td>115.00</td>\n",
       "    </tr>\n",
       "    <tr>\n",
       "      <th>95419</th>\n",
       "      <td>ffffd2657e2aad2907e67c3e9daecbeb</td>\n",
       "      <td>489</td>\n",
       "      <td>1</td>\n",
       "      <td>NaN</td>\n",
       "      <td>56.99</td>\n",
       "    </tr>\n",
       "  </tbody>\n",
       "</table>\n",
       "<p>95420 rows × 5 columns</p>\n",
       "</div>"
      ],
      "text/plain": [
       "                     customer_unique_id  recency  frequency  \\\n",
       "0      0000366f3b9a7992bf8c76cfdf3221e2      116          1   \n",
       "1      0000b849f77a49e4a4ce2b2a4ca5be3f      119          1   \n",
       "2      0000f46a3911fa3c0805444483337064      542          1   \n",
       "3      0000f6ccb0745a6a4b88665a16c9f078      326          1   \n",
       "4      0004aac84e0df4da2b147fca70cf8255      293          1   \n",
       "...                                 ...      ...        ...   \n",
       "95415  fffcf5a5ff07b0908bd4e2dbc735a684      452          2   \n",
       "95416  fffea47cd6d3cc0a88bd621562a9d061      267          1   \n",
       "95417  ffff371b4d645b6ecea244b27531430a      573          1   \n",
       "95418  ffff5962728ec6157033ef9805bacc48      124          1   \n",
       "95419  ffffd2657e2aad2907e67c3e9daecbeb      489          1   \n",
       "\n",
       "       avg_days_between_orders  monetary  \n",
       "0                          NaN    129.90  \n",
       "1                          NaN     18.90  \n",
       "2                          NaN     69.00  \n",
       "3                          NaN     25.99  \n",
       "4                          NaN    180.00  \n",
       "...                        ...       ...  \n",
       "95415                      0.0   1570.00  \n",
       "95416                      NaN     64.89  \n",
       "95417                      NaN     89.90  \n",
       "95418                      NaN    115.00  \n",
       "95419                      NaN     56.99  \n",
       "\n",
       "[95420 rows x 5 columns]"
      ]
     },
     "execution_count": 10,
     "metadata": {},
     "output_type": "execute_result"
    }
   ],
   "source": [
    "rfm"
   ]
  },
  {
   "cell_type": "code",
   "execution_count": 11,
   "id": "6e225f4d",
   "metadata": {},
   "outputs": [],
   "source": [
    "# Средний чек\n",
    "rfm['avg_order_value'] = rfm['monetary'] / rfm['frequency']\n"
   ]
  },
  {
   "cell_type": "code",
   "execution_count": 12,
   "id": "627afe43",
   "metadata": {},
   "outputs": [],
   "source": [
    "# LTV будем считать как monetary за весь период\n",
    "rfm['ltv'] = rfm['monetary']\n",
    "\n",
    "# Churn: если пользователь не покупал за последние 90 дней, считаем ушедшим\n",
    "rfm['churn'] = (rfm['recency'] > 90).astype(int)\n"
   ]
  },
  {
   "cell_type": "code",
   "execution_count": 14,
   "id": "770d0990",
   "metadata": {},
   "outputs": [
    {
     "name": "stdout",
     "output_type": "stream",
     "text": [
      "Features saved to 'data/processed/features.csv'\n"
     ]
    }
   ],
   "source": [
    "# Сохраняем\n",
    "rfm.to_csv(\"data/processed/features.csv\", index=False)\n",
    "print(\"Features saved to 'data/processed/features.csv'\")\n"
   ]
  },
  {
   "cell_type": "code",
   "execution_count": null,
   "id": "d6d5926e",
   "metadata": {},
   "outputs": [],
   "source": []
  },
  {
   "cell_type": "code",
   "execution_count": null,
   "id": "6c9b8d5d",
   "metadata": {},
   "outputs": [],
   "source": []
  },
  {
   "cell_type": "code",
   "execution_count": null,
   "id": "908e8d3c",
   "metadata": {},
   "outputs": [],
   "source": []
  }
 ],
 "metadata": {
  "kernelspec": {
   "display_name": "Python 3 (ipykernel)",
   "language": "python",
   "name": "python3"
  },
  "language_info": {
   "codemirror_mode": {
    "name": "ipython",
    "version": 3
   },
   "file_extension": ".py",
   "mimetype": "text/x-python",
   "name": "python",
   "nbconvert_exporter": "python",
   "pygments_lexer": "ipython3",
   "version": "3.10.11"
  },
  "toc": {
   "base_numbering": 1,
   "nav_menu": {},
   "number_sections": true,
   "sideBar": true,
   "skip_h1_title": false,
   "title_cell": "Table of Contents",
   "title_sidebar": "Contents",
   "toc_cell": false,
   "toc_position": {},
   "toc_section_display": true,
   "toc_window_display": false
  }
 },
 "nbformat": 4,
 "nbformat_minor": 5
}
